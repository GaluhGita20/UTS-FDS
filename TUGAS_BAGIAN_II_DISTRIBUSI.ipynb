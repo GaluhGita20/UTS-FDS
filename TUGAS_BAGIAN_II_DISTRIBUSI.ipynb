{
  "cells": [
    {
      "cell_type": "markdown",
      "id": "5f07b0bf",
      "metadata": {
        "id": "5f07b0bf"
      },
      "source": [
        "# DISTRIBUSI SAMPLE"
      ]
    },
    {
      "cell_type": "markdown",
      "source": [
        "\n",
        "\n",
        "> Distribusi sample (atau distribusi sampel) adalah distribusi probabilitas dari sebuah sampel data yang diperoleh dari populasi tertentu. Distribusi sample menggambarkan frekuensi kemunculan nilai-nilai dalam sampel dan dapat membantu kita untuk memahami karakteristik populasi yang lebih besar. Distribusi sample dapat digunakan untuk menghitung nilai-nilai statistik seperti mean, variance, dan standar deviasi, yang kemudian dapat digunakan untuk membuat inferensi tentang populasi secara keseluruhan.\n",
        "\n"
      ],
      "metadata": {
        "id": "RiOryassAdf_"
      },
      "id": "RiOryassAdf_"
    },
    {
      "cell_type": "code",
      "execution_count": null,
      "id": "c5bfdc0c",
      "metadata": {
        "id": "c5bfdc0c",
        "outputId": "378c2f61-df26-4f44-92ed-a271ea56cee6"
      },
      "outputs": [
        {
          "name": "stdout",
          "output_type": "stream",
          "text": [
            "Requirement already satisfied: pyarrow in c:\\users\\caturwarga computer\\appdata\\roaming\\python\\python39\\site-packages (11.0.0)\n",
            "Requirement already satisfied: numpy>=1.16.6 in d:\\anaconda3\\lib\\site-packages (from pyarrow) (1.21.5)\n"
          ]
        }
      ],
      "source": [
        "!pip install pyarrow --user"
      ]
    },
    {
      "cell_type": "markdown",
      "source": [
        "\n",
        "\n",
        "> Tahap pertama adalah melakukan import library yang akan digunakan.\n",
        "\n"
      ],
      "metadata": {
        "id": "udiywcT0Albj"
      },
      "id": "udiywcT0Albj"
    },
    {
      "cell_type": "code",
      "execution_count": null,
      "id": "c7368ef1",
      "metadata": {
        "id": "c7368ef1"
      },
      "outputs": [],
      "source": [
        "import pandas as pd\n",
        "import numpy as np\n",
        "import seaborn as sns\n",
        "import matplotlib.pyplot as plt\n",
        "import pyarrow\n",
        "from scipy.stats import sem, t\n",
        "import scipy.stats as stats\n",
        "import statsmodels.api as sm\n",
        "import statistics as stat"
      ]
    },
    {
      "cell_type": "markdown",
      "source": [
        "\n",
        "\n",
        "> Fungsi \"pd.read_excel()\" adalah fungsi panda yang membaca file Excel dan membuat objek DataFrame dari datanya. Argumen untuk fungsi tersebut adalah jalur file atau URL ke file Excel. Dalam hal ini, jalur file adalah \"Manager Salary Survey 2021-FINAL (2).xlsx\".\n",
        "\n",
        "> Setelah kode dieksekusi, DataFrame \"df\" akan berisi data dari file Excel, yang kemudian dapat dimanipulasi dan dianalisis menggunakan panda dan pustaka Python lainnya."
      ],
      "metadata": {
        "id": "VtLlLGFTAwRh"
      },
      "id": "VtLlLGFTAwRh"
    },
    {
      "cell_type": "code",
      "execution_count": null,
      "id": "558ded5d",
      "metadata": {
        "id": "558ded5d"
      },
      "outputs": [],
      "source": [
        "df = pd.read_excel(\"Manager Salary Survey 2021-FINAL (2).xlsx\")"
      ]
    },
    {
      "cell_type": "markdown",
      "source": [
        "> Selanjutnya kita dapat melihat 5 data teratas dari dataframe"
      ],
      "metadata": {
        "id": "NHZLls_mA7yv"
      },
      "id": "NHZLls_mA7yv"
    },
    {
      "cell_type": "code",
      "execution_count": null,
      "id": "653f7d48",
      "metadata": {
        "id": "653f7d48",
        "outputId": "3cf2363f-97ea-4359-9c15-3bce862985d6"
      },
      "outputs": [
        {
          "data": {
            "text/html": [
              "<div>\n",
              "<style scoped>\n",
              "    .dataframe tbody tr th:only-of-type {\n",
              "        vertical-align: middle;\n",
              "    }\n",
              "\n",
              "    .dataframe tbody tr th {\n",
              "        vertical-align: top;\n",
              "    }\n",
              "\n",
              "    .dataframe thead th {\n",
              "        text-align: right;\n",
              "    }\n",
              "</style>\n",
              "<table border=\"1\" class=\"dataframe\">\n",
              "  <thead>\n",
              "    <tr style=\"text-align: right;\">\n",
              "      <th></th>\n",
              "      <th>time</th>\n",
              "      <th>age</th>\n",
              "      <th>industry</th>\n",
              "      <th>job_title</th>\n",
              "      <th>need_additional_context</th>\n",
              "      <th>salary</th>\n",
              "      <th>monetary_compentation</th>\n",
              "      <th>currency</th>\n",
              "      <th>indicate_currency</th>\n",
              "      <th>income_additional_contex</th>\n",
              "      <th>country</th>\n",
              "      <th>US_state</th>\n",
              "      <th>city</th>\n",
              "      <th>work_experience_overall</th>\n",
              "      <th>work_experince_field</th>\n",
              "      <th>hights_education_complate</th>\n",
              "      <th>gender</th>\n",
              "      <th>your_race</th>\n",
              "      <th>USD Salary</th>\n",
              "      <th>country_clean</th>\n",
              "    </tr>\n",
              "  </thead>\n",
              "  <tbody>\n",
              "    <tr>\n",
              "      <th>0</th>\n",
              "      <td>2021-04-27 11:02:09.743</td>\n",
              "      <td>25-34</td>\n",
              "      <td>Education (Higher Education)</td>\n",
              "      <td>Research and Instruction Librarian</td>\n",
              "      <td>NaN</td>\n",
              "      <td>55000</td>\n",
              "      <td>0.0</td>\n",
              "      <td>USD</td>\n",
              "      <td>NaN</td>\n",
              "      <td>NaN</td>\n",
              "      <td>United States</td>\n",
              "      <td>Massachusetts</td>\n",
              "      <td>Boston</td>\n",
              "      <td>5-7 years</td>\n",
              "      <td>5-7 years</td>\n",
              "      <td>Master's degree</td>\n",
              "      <td>Woman</td>\n",
              "      <td>White</td>\n",
              "      <td>55000.0000</td>\n",
              "      <td>United States</td>\n",
              "    </tr>\n",
              "    <tr>\n",
              "      <th>1</th>\n",
              "      <td>2021-04-27 11:02:21.562</td>\n",
              "      <td>25-34</td>\n",
              "      <td>Computing or Tech</td>\n",
              "      <td>Change &amp; Internal Communications Manager</td>\n",
              "      <td>NaN</td>\n",
              "      <td>54600</td>\n",
              "      <td>4000.0</td>\n",
              "      <td>GBP</td>\n",
              "      <td>NaN</td>\n",
              "      <td>NaN</td>\n",
              "      <td>United Kingdom</td>\n",
              "      <td>NaN</td>\n",
              "      <td>Cambridge</td>\n",
              "      <td>8 - 10 years</td>\n",
              "      <td>5-7 years</td>\n",
              "      <td>College degree</td>\n",
              "      <td>?</td>\n",
              "      <td>White</td>\n",
              "      <td>67786.6098</td>\n",
              "      <td>United Kingdom</td>\n",
              "    </tr>\n",
              "    <tr>\n",
              "      <th>2</th>\n",
              "      <td>2021-04-27 11:02:38.125</td>\n",
              "      <td>25-34</td>\n",
              "      <td>Accounting, Banking &amp; Finance</td>\n",
              "      <td>Marketing Specialist</td>\n",
              "      <td>NaN</td>\n",
              "      <td>34000</td>\n",
              "      <td>NaN</td>\n",
              "      <td>USD</td>\n",
              "      <td>NaN</td>\n",
              "      <td>NaN</td>\n",
              "      <td>US</td>\n",
              "      <td>Tennessee</td>\n",
              "      <td>Chattanooga</td>\n",
              "      <td>2 - 4 years</td>\n",
              "      <td>2 - 4 years</td>\n",
              "      <td>College degree</td>\n",
              "      <td>Woman</td>\n",
              "      <td>White</td>\n",
              "      <td>34000.0000</td>\n",
              "      <td>United States</td>\n",
              "    </tr>\n",
              "    <tr>\n",
              "      <th>3</th>\n",
              "      <td>2021-04-27 11:02:40.643</td>\n",
              "      <td>25-34</td>\n",
              "      <td>Nonprofits</td>\n",
              "      <td>Program Manager</td>\n",
              "      <td>NaN</td>\n",
              "      <td>62000</td>\n",
              "      <td>3000.0</td>\n",
              "      <td>USD</td>\n",
              "      <td>NaN</td>\n",
              "      <td>NaN</td>\n",
              "      <td>USA</td>\n",
              "      <td>Wisconsin</td>\n",
              "      <td>Milwaukee</td>\n",
              "      <td>8 - 10 years</td>\n",
              "      <td>5-7 years</td>\n",
              "      <td>College degree</td>\n",
              "      <td>Woman</td>\n",
              "      <td>White</td>\n",
              "      <td>62000.0000</td>\n",
              "      <td>United States</td>\n",
              "    </tr>\n",
              "    <tr>\n",
              "      <th>4</th>\n",
              "      <td>2021-04-27 11:02:41.793</td>\n",
              "      <td>25-34</td>\n",
              "      <td>Accounting, Banking &amp; Finance</td>\n",
              "      <td>Accounting Manager</td>\n",
              "      <td>NaN</td>\n",
              "      <td>60000</td>\n",
              "      <td>7000.0</td>\n",
              "      <td>USD</td>\n",
              "      <td>NaN</td>\n",
              "      <td>NaN</td>\n",
              "      <td>US</td>\n",
              "      <td>South Carolina</td>\n",
              "      <td>Greenville</td>\n",
              "      <td>8 - 10 years</td>\n",
              "      <td>5-7 years</td>\n",
              "      <td>College degree</td>\n",
              "      <td>Woman</td>\n",
              "      <td>White</td>\n",
              "      <td>60000.0000</td>\n",
              "      <td>United States</td>\n",
              "    </tr>\n",
              "  </tbody>\n",
              "</table>\n",
              "</div>"
            ],
            "text/plain": [
              "                     time    age                       industry  \\\n",
              "0 2021-04-27 11:02:09.743  25-34   Education (Higher Education)   \n",
              "1 2021-04-27 11:02:21.562  25-34              Computing or Tech   \n",
              "2 2021-04-27 11:02:38.125  25-34  Accounting, Banking & Finance   \n",
              "3 2021-04-27 11:02:40.643  25-34                     Nonprofits   \n",
              "4 2021-04-27 11:02:41.793  25-34  Accounting, Banking & Finance   \n",
              "\n",
              "                                  job_title need_additional_context  salary  \\\n",
              "0        Research and Instruction Librarian                     NaN   55000   \n",
              "1  Change & Internal Communications Manager                     NaN   54600   \n",
              "2                      Marketing Specialist                     NaN   34000   \n",
              "3                           Program Manager                     NaN   62000   \n",
              "4                        Accounting Manager                     NaN   60000   \n",
              "\n",
              "   monetary_compentation currency indicate_currency income_additional_contex  \\\n",
              "0                    0.0      USD               NaN                      NaN   \n",
              "1                 4000.0      GBP               NaN                      NaN   \n",
              "2                    NaN      USD               NaN                      NaN   \n",
              "3                 3000.0      USD               NaN                      NaN   \n",
              "4                 7000.0      USD               NaN                      NaN   \n",
              "\n",
              "          country        US_state         city work_experience_overall  \\\n",
              "0   United States   Massachusetts       Boston               5-7 years   \n",
              "1  United Kingdom             NaN    Cambridge            8 - 10 years   \n",
              "2              US       Tennessee  Chattanooga             2 - 4 years   \n",
              "3             USA       Wisconsin    Milwaukee            8 - 10 years   \n",
              "4              US  South Carolina   Greenville            8 - 10 years   \n",
              "\n",
              "  work_experince_field hights_education_complate gender your_race  USD Salary  \\\n",
              "0            5-7 years           Master's degree  Woman     White  55000.0000   \n",
              "1            5-7 years            College degree      ?     White  67786.6098   \n",
              "2          2 - 4 years            College degree  Woman     White  34000.0000   \n",
              "3            5-7 years            College degree  Woman     White  62000.0000   \n",
              "4            5-7 years            College degree  Woman     White  60000.0000   \n",
              "\n",
              "    country_clean  \n",
              "0   United States  \n",
              "1  United Kingdom  \n",
              "2   United States  \n",
              "3   United States  \n",
              "4   United States  "
            ]
          },
          "execution_count": 35,
          "metadata": {},
          "output_type": "execute_result"
        }
      ],
      "source": [
        "df.head(5)"
      ]
    },
    {
      "cell_type": "markdown",
      "source": [
        "> Selanjutnya kita akan menghilangkan 1 outliner yaitu data salary yang bernilai $102000000.0."
      ],
      "metadata": {
        "id": "Y_IS-xGhBCp3"
      },
      "id": "Y_IS-xGhBCp3"
    },
    {
      "cell_type": "code",
      "execution_count": null,
      "id": "5748e017",
      "metadata": {
        "id": "5748e017"
      },
      "outputs": [],
      "source": [
        "df = df[df[\"USD Salary\"] != 102000000.0]"
      ]
    },
    {
      "cell_type": "markdown",
      "source": [
        "> Selanjutnya kita membuat variabel baru untuk menyimpan data dimana dataset yang digunakan merupakan data dengan job_title yaitu \"Software Engineer\"."
      ],
      "metadata": {
        "id": "H1f2sApCBKvR"
      },
      "id": "H1f2sApCBKvR"
    },
    {
      "cell_type": "code",
      "execution_count": null,
      "id": "5408268e",
      "metadata": {
        "id": "5408268e"
      },
      "outputs": [],
      "source": [
        "datas = df[(df[\"job_title\"]== \"Software Engineer\")]"
      ]
    },
    {
      "cell_type": "markdown",
      "source": [
        "> Selanjutnya kita akan melihat tampilan grafik box plot setelah outliner dihilangkan. Output dari kode di bawah adalah grafik box plot dari data nilai dengan garis horizontal yang menunjukkan nilai maksimum (garis merah putus-putus), rata-rata (garis hijau putus-putus), dan media (garis biru putus-putus)."
      ],
      "metadata": {
        "id": "Fdg6f8SaBaZK"
      },
      "id": "Fdg6f8SaBaZK"
    },
    {
      "cell_type": "code",
      "execution_count": null,
      "id": "e4472b57",
      "metadata": {
        "id": "e4472b57",
        "outputId": "03f874e3-08fd-480b-cf4e-975943dc55d0"
      },
      "outputs": [
        {
          "data": {
            "image/png": "[encoded data removed]",
            "text/plain": [
              "<Figure size 1296x360 with 1 Axes>"
            ]
          },
          "metadata": {
            "needs_background": "light"
          },
          "output_type": "display_data"
        },
        {
          "name": "stdout",
          "output_type": "stream",
          "text": [
            "--------------------------------------------\n",
            "Max = 1100000.0\n",
            "Mean = 133683.03125596154\n",
            "Median = 120000.0\n",
            "Min = 145.0\n"
          ]
        }
      ],
      "source": [
        "plt.figure(figsize=(18,5))\n",
        "plt.boxplot(datas[\"USD Salary\"], vert=False)\n",
        "\n",
        "nilai_max = np.max(datas[\"USD Salary\"])\n",
        "nilai_mean = np.mean(datas[\"USD Salary\"])\n",
        "nilai_median = np.median(datas[\"USD Salary\"])\n",
        "nilai_min = np.min(datas[\"USD Salary\"])\n",
        "\n",
        "plt.axvline(nilai_max, color='r', linestyle='--', label='Max')\n",
        "plt.axvline(nilai_mean, color='g', linestyle='--', label='Mean')\n",
        "plt.axvline(nilai_median, color='b', linestyle='--', label='Median')\n",
        "plt.axvline(nilai_min, color='y', linestyle='--', label='Min')\n",
        "\n",
        "plt.legend()\n",
        "\n",
        "plt.xlabel('USD Salary Data')\n",
        "plt.ylabel('Value')\n",
        "plt.show()\n",
        "print(\"--------------------------------------------\")\n",
        "print(\"Max =\", nilai_max)\n",
        "print(\"Mean =\", nilai_mean)\n",
        "print(\"Median =\", nilai_median)\n",
        "print(\"Min =\", nilai_min)\n",
        "# Output dari kode di atas adalah grafik box plot pada data nilai dengan \n",
        "# garis horizontal yang menunjukkan nilai maksimum (garis merah putus-putus), rata-rata (garis hijau putus-putus), \n",
        "#dan median (garis biru putus-putus). Anda dapat memodifikasi tampilan grafik sesuai dengan kebutuhan Anda."
      ]
    },
    {
      "cell_type": "markdown",
      "source": [
        "> Selanjutnya kita akan menghilangkan 1 outliner yaitu data salary yang bernilai $1100000.0."
      ],
      "metadata": {
        "id": "IrYSEFi0Bvge"
      },
      "id": "IrYSEFi0Bvge"
    },
    {
      "cell_type": "code",
      "execution_count": null,
      "id": "4c92d03c",
      "metadata": {
        "id": "4c92d03c",
        "outputId": "7e265a55-8199-4997-c2bb-85af56c3a4f2"
      },
      "outputs": [
        {
          "data": {
            "text/plain": [
              "27873"
            ]
          },
          "execution_count": 39,
          "metadata": {},
          "output_type": "execute_result"
        }
      ],
      "source": [
        "# Disini kita menghilangkan 1 outliner\n",
        "datas = datas[datas[\"USD Salary\"] != 1100000.0]\n",
        "#teradpat 1 outlier\n",
        "len(df)"
      ]
    },
    {
      "cell_type": "markdown",
      "source": [
        "> Dan ketika kita melakukan describe maka data max akan berubah menjadi data tertinggi nomor 2.\n"
      ],
      "metadata": {
        "id": "pSYydGJSB4j7"
      },
      "id": "pSYydGJSB4j7"
    },
    {
      "cell_type": "code",
      "execution_count": null,
      "id": "3ffaa425",
      "metadata": {
        "id": "3ffaa425",
        "outputId": "9fefd015-ba67-4465-9931-dc7aee7d5d57"
      },
      "outputs": [
        {
          "data": {
            "text/html": [
              "<div>\n",
              "<style scoped>\n",
              "    .dataframe tbody tr th:only-of-type {\n",
              "        vertical-align: middle;\n",
              "    }\n",
              "\n",
              "    .dataframe tbody tr th {\n",
              "        vertical-align: top;\n",
              "    }\n",
              "\n",
              "    .dataframe thead th {\n",
              "        text-align: right;\n",
              "    }\n",
              "</style>\n",
              "<table border=\"1\" class=\"dataframe\">\n",
              "  <thead>\n",
              "    <tr style=\"text-align: right;\">\n",
              "      <th></th>\n",
              "      <th>salary</th>\n",
              "      <th>monetary_compentation</th>\n",
              "      <th>USD Salary</th>\n",
              "    </tr>\n",
              "  </thead>\n",
              "  <tbody>\n",
              "    <tr>\n",
              "      <th>count</th>\n",
              "      <td>2.850000e+02</td>\n",
              "      <td>212.000000</td>\n",
              "      <td>285.000000</td>\n",
              "    </tr>\n",
              "    <tr>\n",
              "      <th>mean</th>\n",
              "      <td>1.371085e+05</td>\n",
              "      <td>42514.816038</td>\n",
              "      <td>130292.445401</td>\n",
              "    </tr>\n",
              "    <tr>\n",
              "      <th>std</th>\n",
              "      <td>1.008024e+05</td>\n",
              "      <td>87348.880463</td>\n",
              "      <td>74248.727578</td>\n",
              "    </tr>\n",
              "    <tr>\n",
              "      <th>min</th>\n",
              "      <td>1.450000e+02</td>\n",
              "      <td>0.000000</td>\n",
              "      <td>145.000000</td>\n",
              "    </tr>\n",
              "    <tr>\n",
              "      <th>25%</th>\n",
              "      <td>9.400000e+04</td>\n",
              "      <td>1900.000000</td>\n",
              "      <td>90977.073000</td>\n",
              "    </tr>\n",
              "    <tr>\n",
              "      <th>50%</th>\n",
              "      <td>1.210000e+05</td>\n",
              "      <td>10000.000000</td>\n",
              "      <td>120000.000000</td>\n",
              "    </tr>\n",
              "    <tr>\n",
              "      <th>75%</th>\n",
              "      <td>1.550000e+05</td>\n",
              "      <td>30375.000000</td>\n",
              "      <td>155000.000000</td>\n",
              "    </tr>\n",
              "    <tr>\n",
              "      <th>max</th>\n",
              "      <td>1.200000e+06</td>\n",
              "      <td>500000.000000</td>\n",
              "      <td>875000.000000</td>\n",
              "    </tr>\n",
              "  </tbody>\n",
              "</table>\n",
              "</div>"
            ],
            "text/plain": [
              "             salary  monetary_compentation     USD Salary\n",
              "count  2.850000e+02             212.000000     285.000000\n",
              "mean   1.371085e+05           42514.816038  130292.445401\n",
              "std    1.008024e+05           87348.880463   74248.727578\n",
              "min    1.450000e+02               0.000000     145.000000\n",
              "25%    9.400000e+04            1900.000000   90977.073000\n",
              "50%    1.210000e+05           10000.000000  120000.000000\n",
              "75%    1.550000e+05           30375.000000  155000.000000\n",
              "max    1.200000e+06          500000.000000  875000.000000"
            ]
          },
          "execution_count": 40,
          "metadata": {},
          "output_type": "execute_result"
        }
      ],
      "source": [
        "datas.describe()"
      ]
    },
    {
      "cell_type": "code",
      "execution_count": null,
      "id": "1ec2c5c8",
      "metadata": {
        "id": "1ec2c5c8"
      },
      "outputs": [],
      "source": []
    },
    {
      "cell_type": "markdown",
      "id": "8b36d396",
      "metadata": {
        "id": "8b36d396"
      },
      "source": [
        "# NORMAL DISTRIBUTION (USD SALARY)"
      ]
    },
    {
      "cell_type": "markdown",
      "source": [
        "> Distribusi normal adalah distribusi probabilitas kontinu yang banyak digunakan dalam statistik, sains, teknik, dan keuangan. Ia juga dikenal sebagai distribusi Gaussian atau kurva lonceng, karena kurva berbentuk loncengnya yang simetris."
      ],
      "metadata": {
        "id": "diFV2iGTD7ZP"
      },
      "id": "diFV2iGTD7ZP"
    },
    {
      "cell_type": "markdown",
      "source": [
        "> Kode di bawah menghasilkan plot KDE (perkiraan kepadatan kernel) dari variabel \"USD Salary\" dari kumpulan data yang disebut \"data\" menggunakan pustaka seaborn dengan Python. Plot diwarnai hijau tua dan dibuat menggunakan parameter \"kind\" yang disetel ke \"kde\".\n",
        "\n",
        "> Kode ini juga menyertakan anotasi yang menampilkan kemiringan dan kurtosis variabel \"USD Salary\" pada plot. Perulangan for mengulangi dua sumbu plot dan menambahkan nilai kemiringan dan kurtosis ke sudut kanan atas setiap sumbu menggunakan fungsi \"ax.text\". Nilai skewness dihitung menggunakan fungsi \"skew\" dari library pandas pada kolom \"USD Salary\" pada dataset, sedangkan nilai kurtosis dihitung menggunakan fungsi \"kurt\" dari library pandas pada kolom yang sama."
      ],
      "metadata": {
        "id": "sIOD77k1EYJ3"
      },
      "id": "sIOD77k1EYJ3"
    },
    {
      "cell_type": "code",
      "execution_count": null,
      "id": "80a8b72a",
      "metadata": {
        "id": "80a8b72a",
        "outputId": "c211300f-3cfb-4a78-84bb-2c96d2d3f001"
      },
      "outputs": [
        {
          "data": {
            "image/png": "[encoded data removed]",
            "text/plain": [
              "<Figure size 360x360 with 1 Axes>"
            ]
          },
          "metadata": {
            "needs_background": "light"
          },
          "output_type": "display_data"
        }
      ],
      "source": [
        "g = sns.displot(data=datas, x=\"USD Salary\",kind ='kde',color='darkgreen')\n",
        "for ax in g.axes.ravel():\n",
        "    ax.text(x=0.97, y=0.97, transform=ax.transAxes, s=\"Skewness: %f\" % df['USD Salary'].skew(),\\\n",
        "        fontsize=10, verticalalignment='top', horizontalalignment='right')\n",
        "    ax.text(x=0.97, y=0.91, transform=ax.transAxes, s=\"Kurtosis: %f\" % df['USD Salary'].kurt(),\\\n",
        "        fontsize=10, verticalalignment='top', horizontalalignment='right')"
      ]
    },
    {
      "cell_type": "code",
      "execution_count": null,
      "id": "d39d102d",
      "metadata": {
        "id": "d39d102d"
      },
      "outputs": [],
      "source": []
    },
    {
      "cell_type": "code",
      "execution_count": null,
      "id": "330f076d",
      "metadata": {
        "id": "330f076d"
      },
      "outputs": [],
      "source": []
    },
    {
      "cell_type": "markdown",
      "id": "0fc241f7",
      "metadata": {
        "id": "0fc241f7"
      },
      "source": [
        "# NORMAL DISTRIBUTION (MONETARY COMPETITION)"
      ]
    },
    {
      "cell_type": "markdown",
      "source": [
        "> Kode di bawah menghasilkan plot KDE (perkiraan kepadatan kernel) dari variabel \"Monetary Competition\" dari kumpulan data yang disebut \"data\" menggunakan pustaka seaborn dengan Python. Plot diwarnai hijau tua dan dibuat menggunakan parameter \"kind\" yang disetel ke \"kde\".\n",
        "\n",
        "> Kode ini juga menyertakan anotasi yang menampilkan kemiringan dan kurtosis variabel \"Monetary Competition\" pada plot. Perulangan for mengulangi dua sumbu plot dan menambahkan nilai kemiringan dan kurtosis ke sudut kanan atas setiap sumbu menggunakan fungsi \"ax.text\". Nilai skewness dihitung menggunakan fungsi \"skew\" dari library pandas pada kolom \"Monetary Competition\" pada dataset, sedangkan nilai kurtosis dihitung menggunakan fungsi \"kurt\" dari library pandas pada kolom yang sama."
      ],
      "metadata": {
        "id": "kZyu2wJpEqoU"
      },
      "id": "kZyu2wJpEqoU"
    },
    {
      "cell_type": "code",
      "execution_count": null,
      "id": "b9d273ce",
      "metadata": {
        "id": "b9d273ce",
        "outputId": "f32e2d9e-6751-4aed-a271-f79569d09e06"
      },
      "outputs": [
        {
          "data": {
            "image/png": "[encoded data removed]",
            "text/plain": [
              "<Figure size 360x360 with 1 Axes>"
            ]
          },
          "metadata": {
            "needs_background": "light"
          },
          "output_type": "display_data"
        }
      ],
      "source": [
        "g = sns.displot(data=datas, x=\"monetary_compentation\",kind ='kde',color='darkgreen')\n",
        "for ax in g.axes.ravel():\n",
        "    ax.text(x=0.97, y=0.97, transform=ax.transAxes, s=\"Skewness: %f\" % df['monetary_compentation'].skew(),\\\n",
        "        fontsize=10, verticalalignment='top', horizontalalignment='right')\n",
        "    ax.text(x=0.97, y=0.91, transform=ax.transAxes, s=\"Kurtosis: %f\" % df['monetary_compentation'].kurt(),\\\n",
        "        fontsize=10, verticalalignment='top', horizontalalignment='right')"
      ]
    },
    {
      "cell_type": "code",
      "execution_count": null,
      "id": "9376cdab",
      "metadata": {
        "id": "9376cdab"
      },
      "outputs": [],
      "source": []
    },
    {
      "cell_type": "code",
      "execution_count": null,
      "id": "1cae0dac",
      "metadata": {
        "id": "1cae0dac"
      },
      "outputs": [],
      "source": []
    },
    {
      "cell_type": "markdown",
      "id": "04515da1",
      "metadata": {
        "id": "04515da1"
      },
      "source": [
        "# DISTRIBUTION SAMPLING (WORK EXPERINCE OVERALL)"
      ]
    },
    {
      "cell_type": "markdown",
      "source": [
        "> Sampling distribusi adalah proses menghasilkan sampel nilai acak dari distribusi probabilitas. Dalam statistik dan analisis data, pengambilan sampel dari suatu distribusi dapat digunakan untuk memperkirakan sifat-sifat distribusi, seperti mean, varians, dan kuantilnya.\n",
        "\n",
        "> Salah satu cara untuk melakukan sampling distribusi adalah dengan menggunakan metode transformasi terbalik. Metode ini melibatkan transformasi variabel acak seragam pada interval [0,1] menjadi variabel acak dari distribusi yang diinginkan. Ini dilakukan dengan terlebih dahulu menemukan invers dari fungsi distribusi kumulatif (CDF) dari distribusi yang diinginkan, dan kemudian menerapkan fungsi invers ini ke variabel acak seragam. Nilai yang dihasilkan akan memiliki distribusi yang diinginkan."
      ],
      "metadata": {
        "id": "PHPIsGM2FSoi"
      },
      "id": "PHPIsGM2FSoi"
    },
    {
      "cell_type": "code",
      "execution_count": null,
      "id": "7d92c4f3",
      "metadata": {
        "id": "7d92c4f3",
        "outputId": "db4c5b6f-1c19-4537-bd35-71babdd546dc"
      },
      "outputs": [
        {
          "data": {
            "text/plain": [
              "2 - 4 years         72\n",
              "5-7 years           70\n",
              "11 - 20 years       58\n",
              "8 - 10 years        55\n",
              "1 year or less      13\n",
              "21 - 30 years       12\n",
              "31 - 40 years        3\n",
              "41 years or more     1\n",
              "Name: work_experience_overall, dtype: int64"
            ]
          },
          "execution_count": 133,
          "metadata": {},
          "output_type": "execute_result"
        }
      ],
      "source": [
        "datas['work_experience_overall'].value_counts()"
      ]
    },
    {
      "cell_type": "code",
      "execution_count": null,
      "id": "24f26f94",
      "metadata": {
        "id": "24f26f94"
      },
      "outputs": [],
      "source": [
        "data_wo = datas['work_experience_overall'].values.tolist()"
      ]
    },
    {
      "cell_type": "markdown",
      "source": [
        "> Kode menghasilkan plot batang menggunakan fungsi \"barplot\" seaborn. Sumbu x plot menunjukkan nilai unik dari variabel \"Work Experience Overall\", sedangkan sumbu y menunjukkan frekuensi setiap nilai unik.\n",
        "\n",
        "> Baris \"plt.figure(figsize=(20,10))\" menetapkan ukuran plot menjadi 20 inci kali 10 inci.\n",
        "\n",
        "> Garis \"plt.xticks(ha='right',rotation='90')\" memutar label sumbu x sebesar 90 derajat dan menyejajarkannya ke kanan.\n",
        "\n",
        "> Baris \"sns.barplot(x=pop_values,y=pop_frequencies,color='green')\" membuat plot batang dengan \"pop_values\" pada sumbu x dan \"pop_frequencies\" pada sumbu y, berwarna hijau.\n",
        "\n",
        "> Terakhir, kode menggunakan fungsi seaborn \"despine\" untuk menghapus duri atas dan kanan plot, dan menyetel label judul dan sumbu dengan fungsi \"plt.title\", \"plt.xlabel\", dan \"plt.ylabel\". .\n",
        "\n",
        "> Secara keseluruhan, kode ini berguna untuk memvisualisasikan distribusi frekuensi variabel kategori seperti \"Work Experience Overall\" dalam kumpulan data."
      ],
      "metadata": {
        "id": "Oc44x_yyFz44"
      },
      "id": "Oc44x_yyFz44"
    },
    {
      "cell_type": "code",
      "execution_count": null,
      "id": "c73938c4",
      "metadata": {
        "id": "c73938c4",
        "outputId": "5e957396-cdf9-40ce-b2b7-4bc49c57e3c1"
      },
      "outputs": [
        {
          "data": {
            "text/plain": [
              "Text(0, 0.5, 'Frequency')"
            ]
          },
          "execution_count": 272,
          "metadata": {},
          "output_type": "execute_result"
        },
        {
          "data": {
            "image/png": "[encoded data removed]",
            "text/plain": [
              "<Figure size 1440x720 with 1 Axes>"
            ]
          },
          "metadata": {
            "needs_background": "light"
          },
          "output_type": "display_data"
        }
      ],
      "source": [
        "pop_values, pop_frequencies = np.unique(data_wo, return_counts=True)\n",
        "\n",
        "plt.figure(figsize=(20,10))\n",
        "plt.xticks(ha=\"right\",rotation=\"90\")\n",
        "sns.barplot(x=pop_values,y=pop_frequencies,color = 'green')\n",
        "\n",
        "# Plot formatting\n",
        "plt.title('Frequency chart of Population - Work Experience Overall distribution',fontsize='14')\n",
        "sns.despine()\n",
        "plt.xlabel('Work Experience Overall',fontsize='12')\n",
        "plt.ylabel('Frequency',fontsize='12') \n"
      ]
    },
    {
      "cell_type": "code",
      "execution_count": null,
      "id": "730d52ab",
      "metadata": {
        "id": "730d52ab"
      },
      "outputs": [],
      "source": []
    },
    {
      "cell_type": "code",
      "execution_count": null,
      "id": "0a5ecc8c",
      "metadata": {
        "id": "0a5ecc8c"
      },
      "outputs": [],
      "source": []
    },
    {
      "cell_type": "markdown",
      "id": "eba33094",
      "metadata": {
        "id": "eba33094"
      },
      "source": [
        "# DISTRIBUTION SAMPLING (WORK EXPERIENCE FIELD)"
      ]
    },
    {
      "cell_type": "markdown",
      "source": [
        "> Kode menghasilkan plot batang menggunakan fungsi \"barplot\" seaborn. Sumbu x plot menunjukkan nilai unik dari variabel \"Work Experience Field\", sedangkan sumbu y menunjukkan frekuensi setiap nilai unik.\n",
        "\n",
        "> Baris \"plt.figure(figsize=(20,10))\" menetapkan ukuran plot menjadi 20 inci kali 10 inci.\n",
        "\n",
        "> Garis \"plt.xticks(ha='right',rotation='90')\" memutar label sumbu x sebesar 90 derajat dan menyejajarkannya ke kanan.\n",
        "\n",
        "> Baris \"sns.barplot(x=pop_values,y=pop_frequencies,color='green')\" membuat plot batang dengan \"pop_values\" pada sumbu x dan \"pop_frequencies\" pada sumbu y, berwarna hijau.\n",
        "\n",
        "> Terakhir, kode menggunakan fungsi seaborn \"despine\" untuk menghapus duri atas dan kanan plot, dan menyetel label judul dan sumbu dengan fungsi \"plt.title\", \"plt.xlabel\", dan \"plt.ylabel\". .\n",
        "\n",
        "> Secara keseluruhan, kode ini berguna untuk memvisualisasikan distribusi frekuensi variabel kategori seperti \"Work Experience Field\" dalam kumpulan data."
      ],
      "metadata": {
        "id": "a7puQny7GOYd"
      },
      "id": "a7puQny7GOYd"
    },
    {
      "cell_type": "code",
      "execution_count": null,
      "id": "30cb6817",
      "metadata": {
        "id": "30cb6817",
        "outputId": "daef2793-5224-42ea-c94b-693213f06250"
      },
      "outputs": [
        {
          "data": {
            "text/plain": [
              "Text(0, 0.5, 'Frequency')"
            ]
          },
          "execution_count": 276,
          "metadata": {},
          "output_type": "execute_result"
        },
        {
          "data": {
            "image/png": "[encoded data removed]",
            "text/plain": [
              "<Figure size 1440x720 with 1 Axes>"
            ]
          },
          "metadata": {
            "needs_background": "light"
          },
          "output_type": "display_data"
        }
      ],
      "source": [
        "pop_values, pop_frequencies = np.unique(datas['work_experince_field'].values.tolist(), return_counts=True)\n",
        "\n",
        "plt.figure(figsize=(20,10))\n",
        "plt.xticks(ha=\"right\",rotation=\"90\")\n",
        "sns.barplot(x=pop_values,y=pop_frequencies,color = 'red')\n",
        "\n",
        "# Plot formatting\n",
        "plt.title('Frequency chart of Population - Work Experience Field distribution',fontsize='14')\n",
        "sns.despine()\n",
        "plt.xlabel('Work Experience Overall',fontsize='12')\n",
        "plt.ylabel('Frequency',fontsize='12') \n"
      ]
    },
    {
      "cell_type": "code",
      "execution_count": null,
      "id": "fcfd8125",
      "metadata": {
        "id": "fcfd8125"
      },
      "outputs": [],
      "source": []
    },
    {
      "cell_type": "code",
      "execution_count": null,
      "id": "fe8d3e9c",
      "metadata": {
        "id": "fe8d3e9c"
      },
      "outputs": [],
      "source": []
    },
    {
      "cell_type": "markdown",
      "id": "3906926e",
      "metadata": {
        "id": "3906926e"
      },
      "source": [
        "# DISTRIBUTION SAMPLING (EDUCATION)"
      ]
    },
    {
      "cell_type": "markdown",
      "source": [
        "> Kode menghasilkan plot batang menggunakan fungsi \"barplot\" seaborn. Sumbu x plot menunjukkan nilai unik dari variabel \"Education\", sedangkan sumbu y menunjukkan frekuensi setiap nilai unik.\n",
        "\n",
        "> Baris \"plt.figure(figsize=(20,10))\" menetapkan ukuran plot menjadi 20 inci kali 10 inci.\n",
        "\n",
        "> Garis \"plt.xticks(ha='right',rotation='90')\" memutar label sumbu x sebesar 90 derajat dan menyejajarkannya ke kanan.\n",
        "\n",
        "> Baris \"sns.barplot(x=pop_values,y=pop_frequencies,color='green')\" membuat plot batang dengan \"pop_values\" pada sumbu x dan \"pop_frequencies\" pada sumbu y, berwarna hijau.\n",
        "\n",
        "> Terakhir, kode menggunakan fungsi seaborn \"despine\" untuk menghapus duri atas dan kanan plot, dan menyetel label judul dan sumbu dengan fungsi \"plt.title\", \"plt.xlabel\", dan \"plt.ylabel\". .\n",
        "\n",
        "> Secara keseluruhan, kode ini berguna untuk memvisualisasikan distribusi frekuensi variabel kategori seperti \"Education\" dalam kumpulan data."
      ],
      "metadata": {
        "id": "zRafm6NaGS9G"
      },
      "id": "zRafm6NaGS9G"
    },
    {
      "cell_type": "code",
      "execution_count": null,
      "id": "554e8755",
      "metadata": {
        "id": "554e8755",
        "outputId": "b0b56a23-8c8d-42e3-c33d-c653b958754f"
      },
      "outputs": [
        {
          "data": {
            "text/plain": [
              "Text(0, 0.5, 'Frequency')"
            ]
          },
          "execution_count": 277,
          "metadata": {},
          "output_type": "execute_result"
        },
        {
          "data": {
            "image/png": "[encoded data removed]",
            "text/plain": [
              "<Figure size 1440x720 with 1 Axes>"
            ]
          },
          "metadata": {
            "needs_background": "light"
          },
          "output_type": "display_data"
        }
      ],
      "source": [
        "pop_values, pop_frequencies = np.unique(datas['hights_education_complate'].values.tolist(), return_counts=True)\n",
        "\n",
        "plt.figure(figsize=(20,10))\n",
        "plt.xticks(ha=\"right\",rotation=\"90\")\n",
        "sns.barplot(x=pop_values,y=pop_frequencies,color = 'purple')\n",
        "\n",
        "# Plot formatting\n",
        "plt.title('Frequency chart of Population - Work Experience Overall distribution',fontsize='14')\n",
        "sns.despine()\n",
        "plt.xlabel('Work Experience Overall',fontsize='12')\n",
        "plt.ylabel('Frequency',fontsize='12') \n"
      ]
    },
    {
      "cell_type": "code",
      "execution_count": null,
      "id": "4282ae65",
      "metadata": {
        "id": "4282ae65"
      },
      "outputs": [],
      "source": []
    },
    {
      "cell_type": "code",
      "execution_count": null,
      "id": "8eb36bc5",
      "metadata": {
        "id": "8eb36bc5"
      },
      "outputs": [],
      "source": []
    },
    {
      "cell_type": "markdown",
      "id": "8e1be950",
      "metadata": {
        "id": "8e1be950"
      },
      "source": [
        "# DISTRIBUTION SAMPLING (GENDER) "
      ]
    },
    {
      "cell_type": "markdown",
      "source": [
        "> Kode menghasilkan plot batang menggunakan fungsi \"barplot\" seaborn. Sumbu x plot menunjukkan nilai unik dari variabel \"Gender\", sedangkan sumbu y menunjukkan frekuensi setiap nilai unik.\n",
        "\n",
        "> Baris \"plt.figure(figsize=(20,10))\" menetapkan ukuran plot menjadi 20 inci kali 10 inci.\n",
        "\n",
        "> Garis \"plt.xticks(ha='right',rotation='90')\" memutar label sumbu x sebesar 90 derajat dan menyejajarkannya ke kanan.\n",
        "\n",
        "> Baris \"sns.barplot(x=pop_values,y=pop_frequencies,color='green')\" membuat plot batang dengan \"pop_values\" pada sumbu x dan \"pop_frequencies\" pada sumbu y, berwarna hijau.\n",
        "\n",
        "> Terakhir, kode menggunakan fungsi seaborn \"despine\" untuk menghapus duri atas dan kanan plot, dan menyetel label judul dan sumbu dengan fungsi \"plt.title\", \"plt.xlabel\", dan \"plt.ylabel\". .\n",
        "\n",
        "> Secara keseluruhan, kode ini berguna untuk memvisualisasikan distribusi frekuensi variabel kategori seperti \"Gender\" dalam kumpulan data."
      ],
      "metadata": {
        "id": "mqb-mufSGX20"
      },
      "id": "mqb-mufSGX20"
    },
    {
      "cell_type": "code",
      "execution_count": null,
      "id": "b77d509a",
      "metadata": {
        "id": "b77d509a"
      },
      "outputs": [],
      "source": [
        "datas = datas[(datas[\"gender\"].isna() == False)]"
      ]
    },
    {
      "cell_type": "code",
      "execution_count": null,
      "id": "cc694b34",
      "metadata": {
        "id": "cc694b34",
        "outputId": "bd53f9df-40d3-4568-884d-36e57509e413"
      },
      "outputs": [
        {
          "data": {
            "text/plain": [
              "Text(0, 0.5, 'Frequency')"
            ]
          },
          "execution_count": 280,
          "metadata": {},
          "output_type": "execute_result"
        },
        {
          "data": {
            "image/png": "[encoded data removed]",
            "text/plain": [
              "<Figure size 1440x720 with 1 Axes>"
            ]
          },
          "metadata": {
            "needs_background": "light"
          },
          "output_type": "display_data"
        }
      ],
      "source": [
        "pop_values, pop_frequencies = np.unique(datas['gender'].values.tolist(), return_counts=True)\n",
        "\n",
        "plt.figure(figsize=(20,10))\n",
        "plt.xticks(ha=\"right\",rotation=\"90\")\n",
        "sns.barplot(x=pop_values,y=pop_frequencies,color = 'Aqua')\n",
        "\n",
        "# Plot formatting\n",
        "plt.title('Frequency chart of Population - Work Experience Overall distribution',fontsize='14')\n",
        "sns.despine()\n",
        "plt.xlabel('Work Experience Overall',fontsize='12')\n",
        "plt.ylabel('Frequency',fontsize='12') \n"
      ]
    },
    {
      "cell_type": "code",
      "execution_count": null,
      "id": "4f219d01",
      "metadata": {
        "id": "4f219d01"
      },
      "outputs": [],
      "source": []
    },
    {
      "cell_type": "code",
      "execution_count": null,
      "id": "e4ff6d1e",
      "metadata": {
        "id": "e4ff6d1e"
      },
      "outputs": [],
      "source": []
    },
    {
      "cell_type": "markdown",
      "id": "f4767b27",
      "metadata": {
        "id": "f4767b27"
      },
      "source": [
        "# DISTRIBUTION SAMPLING (COUNTRY)"
      ]
    },
    {
      "cell_type": "code",
      "execution_count": null,
      "id": "cf35c4ca",
      "metadata": {
        "id": "cf35c4ca",
        "outputId": "2fb185dc-acf9-4a6c-87c9-e4531aad8d40"
      },
      "outputs": [
        {
          "data": {
            "text/plain": [
              "United States     230\n",
              "Canada             11\n",
              "United Kingdom      6\n",
              "Germany             6\n",
              "Australia           4\n",
              "France              4\n",
              "Ireland             2\n",
              "Austria             2\n",
              "India               2\n",
              "Israel              2\n",
              "Brazil              1\n",
              "Switzerland         1\n",
              "Sweden              1\n",
              "Netherlands         1\n",
              "Greece              1\n",
              "Luxembourg          1\n",
              "Name: country_clean, dtype: int64"
            ]
          },
          "execution_count": 233,
          "metadata": {},
          "output_type": "execute_result"
        }
      ],
      "source": [
        "datas['country_clean'].value_counts()"
      ]
    },
    {
      "cell_type": "code",
      "execution_count": null,
      "id": "5e867a0d",
      "metadata": {
        "id": "5e867a0d"
      },
      "outputs": [],
      "source": [
        "from pandas.api.types import CategoricalDtype\n",
        "# define the order of categories\n",
        "cat_order = CategoricalDtype(categories=['United States', 'Canada', 'United Kingdom', 'Germany', 'Australia', 'France', \n",
        "                                         'Ireland', 'Austria', 'India', 'Israel', 'Brazil', 'Switzerland', 'Sweden',\n",
        "                                        'Netherlands', 'Greece', 'Luxembourg'], ordered=True)"
      ]
    },
    {
      "cell_type": "code",
      "execution_count": null,
      "id": "77d63031",
      "metadata": {
        "id": "77d63031"
      },
      "outputs": [],
      "source": [
        "# convert the column to categorical type with ordered=True\n",
        "df['country_clean'] = df['country_clean'].astype(cat_order)"
      ]
    },
    {
      "cell_type": "code",
      "execution_count": null,
      "id": "78ce30db",
      "metadata": {
        "id": "78ce30db"
      },
      "outputs": [],
      "source": [
        "data_country = datas['country_clean'].values.tolist()"
      ]
    },
    {
      "cell_type": "markdown",
      "source": [
        "> Kode menghasilkan plot batang menggunakan fungsi \"barplot\" seaborn. Sumbu x plot menunjukkan nilai unik dari variabel \"Country Clean\", sedangkan sumbu y menunjukkan frekuensi setiap nilai unik.\n",
        "\n",
        "> Baris \"plt.figure(figsize=(20,10))\" menetapkan ukuran plot menjadi 20 inci kali 10 inci.\n",
        "\n",
        "> Garis \"plt.xticks(ha='right',rotation='90')\" memutar label sumbu x sebesar 90 derajat dan menyejajarkannya ke kanan.\n",
        "\n",
        "> Baris \"sns.barplot(x=pop_values,y=pop_frequencies,color='green')\" membuat plot batang dengan \"pop_values\" pada sumbu x dan \"pop_frequencies\" pada sumbu y, berwarna hijau.\n",
        "\n",
        "> Terakhir, kode menggunakan fungsi seaborn \"despine\" untuk menghapus duri atas dan kanan plot, dan menyetel label judul dan sumbu dengan fungsi \"plt.title\", \"plt.xlabel\", dan \"plt.ylabel\". .\n",
        "\n",
        "> Secara keseluruhan, kode ini berguna untuk memvisualisasikan distribusi frekuensi variabel kategori seperti \"Country Clean\" dalam kumpulan data."
      ],
      "metadata": {
        "id": "rW6CSNY6Gc_G"
      },
      "id": "rW6CSNY6Gc_G"
    },
    {
      "cell_type": "code",
      "execution_count": null,
      "id": "09752021",
      "metadata": {
        "id": "09752021",
        "outputId": "9a9088d8-9f71-4e1c-b910-159c603da8a0"
      },
      "outputs": [
        {
          "data": {
            "text/plain": [
              "Text(0, 0.5, 'Frequency')"
            ]
          },
          "execution_count": 268,
          "metadata": {},
          "output_type": "execute_result"
        },
        {
          "data": {
            "image/png": "[encoded data removed]",
            "text/plain": [
              "<Figure size 1440x720 with 1 Axes>"
            ]
          },
          "metadata": {
            "needs_background": "light"
          },
          "output_type": "display_data"
        }
      ],
      "source": [
        "pop_values, pop_frequencies = np.unique(data_country, return_counts=True)\n",
        "\n",
        "plt.figure(figsize=(20,10))\n",
        "plt.xticks(ha=\"right\",rotation=\"90\")\n",
        "sns.barplot(x=pop_values,y=pop_frequencies,color = 'pink')\n",
        "\n",
        "# Plot formatting\n",
        "plt.title('Frequency chart of Population - Country distribution',fontsize='14')\n",
        "sns.despine()\n",
        "plt.xlabel('Country',fontsize='12')\n",
        "plt.ylabel('Frequency',fontsize='12') \n"
      ]
    },
    {
      "cell_type": "code",
      "execution_count": null,
      "id": "a6eef988",
      "metadata": {
        "id": "a6eef988"
      },
      "outputs": [],
      "source": []
    },
    {
      "cell_type": "code",
      "execution_count": null,
      "id": "704d8851",
      "metadata": {
        "id": "704d8851"
      },
      "outputs": [],
      "source": []
    },
    {
      "cell_type": "markdown",
      "id": "8e1a4303",
      "metadata": {
        "id": "8e1a4303"
      },
      "source": [
        "# DISTRIBUTION SAMPLING (AGE)"
      ]
    },
    {
      "cell_type": "markdown",
      "source": [
        "> Kode menghasilkan plot batang menggunakan fungsi \"barplot\" seaborn. Sumbu x plot menunjukkan nilai unik dari variabel \"Age\", sedangkan sumbu y menunjukkan frekuensi setiap nilai unik.\n",
        "\n",
        "> Baris \"plt.figure(figsize=(20,10))\" menetapkan ukuran plot menjadi 20 inci kali 10 inci.\n",
        "\n",
        "> Garis \"plt.xticks(ha='right',rotation='90')\" memutar label sumbu x sebesar 90 derajat dan menyejajarkannya ke kanan.\n",
        "\n",
        "> Baris \"sns.barplot(x=pop_values,y=pop_frequencies,color='green')\" membuat plot batang dengan \"pop_values\" pada sumbu x dan \"pop_frequencies\" pada sumbu y, berwarna hijau.\n",
        "\n",
        "> Terakhir, kode menggunakan fungsi seaborn \"despine\" untuk menghapus duri atas dan kanan plot, dan menyetel label judul dan sumbu dengan fungsi \"plt.title\", \"plt.xlabel\", dan \"plt.ylabel\". .\n",
        "\n",
        "> Secara keseluruhan, kode ini berguna untuk memvisualisasikan distribusi frekuensi variabel kategori seperti \"Age\" dalam kumpulan data."
      ],
      "metadata": {
        "id": "thmUR0bgGihh"
      },
      "id": "thmUR0bgGihh"
    },
    {
      "cell_type": "code",
      "execution_count": null,
      "id": "e3466d3f",
      "metadata": {
        "id": "e3466d3f",
        "outputId": "36e26a4c-d963-4331-a4bf-01d7756533ad"
      },
      "outputs": [
        {
          "data": {
            "text/plain": [
              "Text(0, 0.5, 'Frequency')"
            ]
          },
          "execution_count": 281,
          "metadata": {},
          "output_type": "execute_result"
        },
        {
          "data": {
            "image/png": "[encoded data removed]",
            "text/plain": [
              "<Figure size 1440x720 with 1 Axes>"
            ]
          },
          "metadata": {
            "needs_background": "light"
          },
          "output_type": "display_data"
        }
      ],
      "source": [
        "pop_values, pop_frequencies = np.unique(datas['age'].values.tolist(), return_counts=True)\n",
        "\n",
        "plt.figure(figsize=(20,10))\n",
        "plt.xticks(ha=\"right\",rotation=\"90\")\n",
        "sns.barplot(x=pop_values,y=pop_frequencies,color = 'Lavender')\n",
        "\n",
        "# Plot formatting\n",
        "plt.title('Frequency chart of Population - Work Experience Overall distribution',fontsize='14')\n",
        "sns.despine()\n",
        "plt.xlabel('Work Experience Overall',fontsize='12')\n",
        "plt.ylabel('Frequency',fontsize='12') \n"
      ]
    },
    {
      "cell_type": "code",
      "execution_count": null,
      "id": "161effd9",
      "metadata": {
        "id": "161effd9"
      },
      "outputs": [],
      "source": []
    },
    {
      "cell_type": "code",
      "execution_count": null,
      "id": "0055f7e8",
      "metadata": {
        "id": "0055f7e8"
      },
      "outputs": [],
      "source": []
    },
    {
      "cell_type": "markdown",
      "id": "926cbb1b",
      "metadata": {
        "id": "926cbb1b"
      },
      "source": [
        "# DISTRIBUTION SAMPLING (SALARY)"
      ]
    },
    {
      "cell_type": "code",
      "execution_count": null,
      "id": "81032eda",
      "metadata": {
        "id": "81032eda"
      },
      "outputs": [],
      "source": [
        "datas = datas[datas[\"USD Salary\"] != 875000.0]"
      ]
    },
    {
      "cell_type": "code",
      "execution_count": null,
      "id": "f04b6d7c",
      "metadata": {
        "id": "f04b6d7c",
        "outputId": "21885bac-75d8-43b7-cfff-a361c818bada"
      },
      "outputs": [
        {
          "data": {
            "text/plain": [
              "count       284.000000\n",
              "mean     127670.235701\n",
              "std       59714.099940\n",
              "min         145.000000\n",
              "25%       90425.704750\n",
              "50%      120000.000000\n",
              "75%      154250.000000\n",
              "max      590000.000000\n",
              "Name: USD Salary, dtype: float64"
            ]
          },
          "execution_count": 58,
          "metadata": {},
          "output_type": "execute_result"
        }
      ],
      "source": [
        "data_salary = datas['USD Salary']\n",
        "data_salary.describe()"
      ]
    },
    {
      "cell_type": "code",
      "execution_count": null,
      "id": "cc20618f",
      "metadata": {
        "id": "cc20618f",
        "outputId": "e8e2c255-1e7d-4873-f3b5-a140e13534ba"
      },
      "outputs": [
        {
          "data": {
            "text/plain": [
              "dtype('float64')"
            ]
          },
          "execution_count": 67,
          "metadata": {},
          "output_type": "execute_result"
        }
      ],
      "source": [
        "data_salary.dtype"
      ]
    },
    {
      "cell_type": "code",
      "execution_count": null,
      "id": "550b63f9",
      "metadata": {
        "id": "550b63f9"
      },
      "outputs": [],
      "source": [
        "data_salary = data_salary.astype(int) "
      ]
    },
    {
      "cell_type": "code",
      "execution_count": null,
      "id": "ea4f8258",
      "metadata": {
        "id": "ea4f8258",
        "outputId": "30597a8f-b2f2-4f59-ecd1-a27a9f4eddda"
      },
      "outputs": [
        {
          "data": {
            "text/plain": [
              "dtype('int32')"
            ]
          },
          "execution_count": 70,
          "metadata": {},
          "output_type": "execute_result"
        }
      ],
      "source": [
        "data_salary.dtype"
      ]
    },
    {
      "cell_type": "markdown",
      "id": "f32e01c5",
      "metadata": {
        "id": "f32e01c5"
      },
      "source": [
        "<b>Population Standard deviation<b>"
      ]
    },
    {
      "cell_type": "markdown",
      "source": [
        "> Kode ini pertama-tama menghitung nilai unik dan frekuensinya untuk variabel \"USD Salary\" menggunakan fungsi \"np.unique\" dengan \"return_counts=True\".\n",
        "\n",
        "> Baris \"plt.figure(figsize=(30,20))\" menetapkan ukuran plot menjadi 30 inci kali 20 inci.\n",
        "\n",
        "> Garis \"plt.xticks(ha='right',rotation='90')\" memutar label sumbu x sebesar 90 derajat dan menyejajarkannya ke kanan.\n",
        "\n",
        "> Baris \"sns.barplot(x=pop_values,y=pop_frequencies,color='brown')\" membuat plot batang dengan \"pop_values\" pada sumbu x dan \"pop_frequencies\" pada sumbu y, berwarna cokelat.\n",
        "\n",
        "> Kode kemudian menggunakan fungsi \"despine\" seaborn untuk menghapus duri atas dan kanan plot, dan menyetel label judul dan sumbu dengan fungsi \"plt.title\", \"plt.xlabel\", dan \"plt.ylabel\".\n",
        "\n",
        "> Terakhir, kode mencetak simpangan baku variabel \"USD Salary\" dalam kumpulan data \"data\" menggunakan fungsi \"np.std\" dan pemformatan string.\n",
        "\n",
        "> Secara keseluruhan, kode ini berguna untuk memvisualisasikan distribusi frekuensi variabel kontinu seperti \"USD Salary\" dalam kumpulan data dan menghitung standar deviasinya.\n",
        "\n",
        "\n",
        "\n",
        "\n"
      ],
      "metadata": {
        "id": "BMpIpkiuG4r5"
      },
      "id": "BMpIpkiuG4r5"
    },
    {
      "cell_type": "code",
      "execution_count": null,
      "id": "a4aa3359",
      "metadata": {
        "id": "a4aa3359",
        "outputId": "b65ff360-c0a4-4d0b-c4d7-0e152b59072d"
      },
      "outputs": [
        {
          "name": "stdout",
          "output_type": "stream",
          "text": [
            "Standard deviation of the population  = 59608.877\n"
          ]
        },
        {
          "data": {
            "image/png": "[encoded data removed]",
            "text/plain": [
              "<Figure size 2160x1440 with 1 Axes>"
            ]
          },
          "metadata": {
            "needs_background": "light"
          },
          "output_type": "display_data"
        }
      ],
      "source": [
        "pop_values, pop_frequencies = np.unique(data_salary, return_counts=True)\n",
        "\n",
        "plt.figure(figsize=(30,20))\n",
        "plt.xticks(ha=\"right\",rotation=\"90\")\n",
        "sns.barplot(x=pop_values,y=pop_frequencies,color = 'brown')\n",
        "\n",
        "# Plot formatting\n",
        "plt.title('Frequency chart of Population - Salary distribution',fontsize='14')\n",
        "sns.despine()\n",
        "plt.xlabel('Salary',fontsize='12')\n",
        "plt.ylabel('Frequency',fontsize='12') \n",
        "\n",
        "print(f'Standard deviation of the population  = {np.std(datas[\"USD Salary\"]):.3f}')"
      ]
    },
    {
      "cell_type": "code",
      "execution_count": null,
      "id": "8fb5db39",
      "metadata": {
        "id": "8fb5db39"
      },
      "outputs": [],
      "source": []
    },
    {
      "cell_type": "code",
      "execution_count": null,
      "id": "a481718a",
      "metadata": {
        "id": "a481718a"
      },
      "outputs": [],
      "source": []
    },
    {
      "cell_type": "code",
      "execution_count": null,
      "id": "02e1dfc0",
      "metadata": {
        "id": "02e1dfc0"
      },
      "outputs": [],
      "source": []
    },
    {
      "cell_type": "code",
      "execution_count": null,
      "id": "c3767b4b",
      "metadata": {
        "id": "c3767b4b"
      },
      "outputs": [],
      "source": []
    },
    {
      "cell_type": "code",
      "execution_count": null,
      "id": "9ee604c0",
      "metadata": {
        "id": "9ee604c0"
      },
      "outputs": [],
      "source": []
    },
    {
      "cell_type": "code",
      "execution_count": null,
      "id": "34ba6292",
      "metadata": {
        "id": "34ba6292"
      },
      "outputs": [],
      "source": []
    },
    {
      "cell_type": "code",
      "execution_count": null,
      "id": "c54eea82",
      "metadata": {
        "id": "c54eea82"
      },
      "outputs": [],
      "source": []
    },
    {
      "cell_type": "code",
      "execution_count": null,
      "id": "a9cb45e7",
      "metadata": {
        "id": "a9cb45e7"
      },
      "outputs": [],
      "source": []
    },
    {
      "cell_type": "code",
      "execution_count": null,
      "id": "15771606",
      "metadata": {
        "id": "15771606"
      },
      "outputs": [],
      "source": []
    },
    {
      "cell_type": "code",
      "execution_count": null,
      "id": "03b5d7d5",
      "metadata": {
        "id": "03b5d7d5"
      },
      "outputs": [],
      "source": []
    },
    {
      "cell_type": "code",
      "execution_count": null,
      "id": "3fe7cd9d",
      "metadata": {
        "id": "3fe7cd9d"
      },
      "outputs": [],
      "source": []
    },
    {
      "cell_type": "code",
      "execution_count": null,
      "id": "26f9bcf6",
      "metadata": {
        "id": "26f9bcf6"
      },
      "outputs": [],
      "source": []
    },
    {
      "cell_type": "code",
      "execution_count": null,
      "id": "dd371064",
      "metadata": {
        "id": "dd371064"
      },
      "outputs": [],
      "source": []
    },
    {
      "cell_type": "code",
      "execution_count": null,
      "id": "fc747169",
      "metadata": {
        "id": "fc747169"
      },
      "outputs": [],
      "source": []
    },
    {
      "cell_type": "code",
      "execution_count": null,
      "id": "737da82f",
      "metadata": {
        "id": "737da82f"
      },
      "outputs": [],
      "source": []
    }
  ],
  "metadata": {
    "kernelspec": {
      "display_name": "Python 3 (ipykernel)",
      "language": "python",
      "name": "python3"
    },
    "language_info": {
      "codemirror_mode": {
        "name": "ipython",
        "version": 3
      },
      "file_extension": ".py",
      "mimetype": "text/x-python",
      "name": "python",
      "nbconvert_exporter": "python",
      "pygments_lexer": "ipython3",
      "version": "3.9.12"
    },
    "colab": {
      "provenance": []
    }
  },
  "nbformat": 4,
  "nbformat_minor": 5
}